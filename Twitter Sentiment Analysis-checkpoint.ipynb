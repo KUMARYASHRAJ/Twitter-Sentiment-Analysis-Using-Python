{
 "cells": [
  {
   "cell_type": "markdown",
   "id": "b7d8641a-7d2f-422c-b011-ee3371febf24",
   "metadata": {},
   "source": [
    "# Twitter Sentiment Analysis Using Python"
   ]
  },
  {
   "cell_type": "markdown",
   "id": "4e516aa9-42f9-43b4-96c4-35c1fece246b",
   "metadata": {},
   "source": [
    "we'll analyze some fictional tweets and find out whether the overall sentiment of Twitter users is happy or sad."
   ]
  },
  {
   "cell_type": "code",
   "execution_count": 1,
   "id": "9d529102-95db-49a8-bee1-64a96b7e8313",
   "metadata": {},
   "outputs": [],
   "source": [
    "tweets = [\n",
    "    \"Wow, what a great day today!! #sunshine\",\n",
    "    \"I feel sad about the things going on around us. #covid19\",\n",
    "    \"I'm really excited to learn Python with @JovianML #zerotopandas\",\n",
    "    \"This is a really nice song. #linkinpark\",\n",
    "    \"The python programming language is useful for data science\",\n",
    "    \"Why do bad things happen to me?\",\n",
    "    \"Apple announces the release of the new iPhone 12. Fans are excited.\",\n",
    "    \"Spent my day with family!! #happy\",\n",
    "    \"Check out my blog post on common string operations in Python. #zerotopandas\",\n",
    "    \"Freecodecamp has great coding tutorials. #skillup\"\n",
    "]"
   ]
  },
  {
   "cell_type": "code",
   "execution_count": 2,
   "id": "8edf0e3e-953c-4406-9127-820940c23ea4",
   "metadata": {},
   "outputs": [],
   "source": [
    "number_of_tweets = len(tweets)"
   ]
  },
  {
   "cell_type": "code",
   "execution_count": 3,
   "id": "aa175166-d3cd-4274-87e1-01ad6dd47e16",
   "metadata": {},
   "outputs": [
    {
     "data": {
      "text/plain": [
       "10"
      ]
     },
     "execution_count": 3,
     "metadata": {},
     "output_type": "execute_result"
    }
   ],
   "source": [
    "number_of_tweets"
   ]
  },
  {
   "cell_type": "markdown",
   "id": "1c173c1f-8f6c-4f0a-8d33-ea342c839a08",
   "metadata": {},
   "source": [
    "I create two lists of words: happy_words and sad_words, We will use these to check if a tweet is happy or sad."
   ]
  },
  {
   "cell_type": "code",
   "execution_count": 4,
   "id": "e34e4fea-71c6-4f8e-8dfd-fe0757567a40",
   "metadata": {},
   "outputs": [],
   "source": [
    "happy_words = ['great', 'excited', 'happy', 'nice', 'wonderful', 'amazing', 'good', 'best']"
   ]
  },
  {
   "cell_type": "code",
   "execution_count": 5,
   "id": "25c5690d-abee-475c-abe5-8d382f1aeff1",
   "metadata": {},
   "outputs": [],
   "source": [
    "sad_words = ['sad', 'bad', 'tragic', 'unhappy', 'worst']"
   ]
  },
  {
   "cell_type": "markdown",
   "id": "7187b11c-8b40-44df-a5fc-e5cbed807486",
   "metadata": {},
   "source": [
    "To identify whether a tweet is happy, we can simply check if contains any of the words from happy_words."
   ]
  },
  {
   "cell_type": "code",
   "execution_count": 6,
   "id": "939b1f6e-204c-4671-a7e3-de18c3add373",
   "metadata": {},
   "outputs": [],
   "source": [
    "sample_tweet = tweets[0]"
   ]
  },
  {
   "cell_type": "code",
   "execution_count": 7,
   "id": "3eae331a-798b-46aa-94e4-5fa78e83b7e8",
   "metadata": {},
   "outputs": [
    {
     "data": {
      "text/plain": [
       "'Wow, what a great day today!! #sunshine'"
      ]
     },
     "execution_count": 7,
     "metadata": {},
     "output_type": "execute_result"
    }
   ],
   "source": [
    "sample_tweet"
   ]
  },
  {
   "cell_type": "code",
   "execution_count": 8,
   "id": "c1d9ba5b-cd2c-48b0-8d9d-7b384ed06c90",
   "metadata": {},
   "outputs": [],
   "source": [
    "is_tweet_happy = False\n",
    "# Get a word from happy_words\n",
    "for word in happy_words:\n",
    "    # Check if the tweet contains the wor\n",
    "    if word in sample_tweet:\n",
    "        # Word found! Mark the tweet as happy\n",
    "        is_tweet_happy = True"
   ]
  },
  {
   "cell_type": "code",
   "execution_count": 9,
   "id": "ca102beb-51aa-43a9-8d2b-fc17c4057b19",
   "metadata": {},
   "outputs": [
    {
     "data": {
      "text/plain": [
       "True"
      ]
     },
     "execution_count": 9,
     "metadata": {},
     "output_type": "execute_result"
    }
   ],
   "source": [
    "is_tweet_happy"
   ]
  },
  {
   "cell_type": "markdown",
   "id": "48a1e693-c4fb-45d3-bd47-f731992bfc3f",
   "metadata": {},
   "source": [
    "### We will Determine the number of tweets in the dataset that can be classified as happy."
   ]
  },
  {
   "cell_type": "code",
   "execution_count": 10,
   "id": "25d2718e-c93f-486d-9ea7-2b9ad589a44a",
   "metadata": {},
   "outputs": [],
   "source": [
    "# store the final answer in this variable\n",
    "number_of_happy_tweets = 0\n",
    "\n",
    "# perform the calculations here\n",
    "for tweet in tweets:\n",
    "  for keyword in happy_words:\n",
    "    number_of_happy_tweets += 1"
   ]
  },
  {
   "cell_type": "code",
   "execution_count": 11,
   "id": "9747848c-e32c-4e13-a1a2-fa079ab22862",
   "metadata": {},
   "outputs": [
    {
     "name": "stdout",
     "output_type": "stream",
     "text": [
      "Number of happy tweets: 80\n"
     ]
    }
   ],
   "source": [
    "print(\"Number of happy tweets:\", number_of_happy_tweets)"
   ]
  },
  {
   "cell_type": "markdown",
   "id": "bbe6900d-4cf8-4f4b-8081-8faf6030f201",
   "metadata": {},
   "source": [
    "####  The fraction of the total number of tweets are happy?"
   ]
  },
  {
   "cell_type": "code",
   "execution_count": 12,
   "id": "0c8ead7e-83ce-4a34-a144-9ffbe3515252",
   "metadata": {},
   "outputs": [],
   "source": [
    "happy_fraction = number_of_happy_tweets / len(tweets)"
   ]
  },
  {
   "cell_type": "code",
   "execution_count": 13,
   "id": "e6d53337-adb5-4ddd-be86-950970ab3086",
   "metadata": {},
   "outputs": [
    {
     "name": "stdout",
     "output_type": "stream",
     "text": [
      "The fraction of happy tweets is: 8.0\n"
     ]
    }
   ],
   "source": [
    "print(\"The fraction of happy tweets is:\", happy_fraction)"
   ]
  },
  {
   "cell_type": "markdown",
   "id": "3aef7bac-9bb7-4ff7-8dce-d5e28a487112",
   "metadata": {},
   "source": [
    "### Determine the number of tweets in the dataset that can be classified as sad."
   ]
  },
  {
   "cell_type": "code",
   "execution_count": 14,
   "id": "e4002e89-2b87-4c66-86c9-9d6424903718",
   "metadata": {},
   "outputs": [],
   "source": [
    "# store the final answer in this variable\n",
    "number_of_sad_tweets = 0\n",
    "\n",
    "# perform the calculations here\n",
    "for tweet in tweets:\n",
    "  for sd in sad_words:\n",
    "    number_of_sad_tweets += 1"
   ]
  },
  {
   "cell_type": "code",
   "execution_count": 15,
   "id": "5b1deaf8-3d3b-48bb-b676-8db06e721680",
   "metadata": {},
   "outputs": [
    {
     "name": "stdout",
     "output_type": "stream",
     "text": [
      "Number of sad tweets: 50\n"
     ]
    }
   ],
   "source": [
    "print(\"Number of sad tweets:\", number_of_sad_tweets)"
   ]
  },
  {
   "cell_type": "markdown",
   "id": "ef8372bf-3653-4942-a5f7-72ee7b5972fa",
   "metadata": {},
   "source": [
    "#### The fraction of the total number of tweets are sad?"
   ]
  },
  {
   "cell_type": "code",
   "execution_count": 16,
   "id": "471a55bf-9ab4-40be-a1c2-4461a075528d",
   "metadata": {},
   "outputs": [],
   "source": [
    "sad_fraction = number_of_sad_tweets / len(tweets)"
   ]
  },
  {
   "cell_type": "code",
   "execution_count": 17,
   "id": "2ab3bd35-d883-44f2-ab44-dcd9e408b910",
   "metadata": {},
   "outputs": [
    {
     "name": "stdout",
     "output_type": "stream",
     "text": [
      "The fraction of sad tweets is: 5.0\n"
     ]
    }
   ],
   "source": [
    "print(\"The fraction of sad tweets is:\", sad_fraction)"
   ]
  },
  {
   "cell_type": "markdown",
   "id": "3a944638-b3e3-4006-b14f-6db9721f9c56",
   "metadata": {},
   "source": [
    "### Now we will Calculate the sentiment score, which is defined as the difference between the fraction of happy tweets and the fraction of sad tweets."
   ]
  },
  {
   "cell_type": "code",
   "execution_count": 18,
   "id": "de19a067-35f2-46ba-8964-5c9a1e4cef98",
   "metadata": {},
   "outputs": [],
   "source": [
    "sentiment_score = happy_fraction - sad_fraction"
   ]
  },
  {
   "cell_type": "code",
   "execution_count": 19,
   "id": "0dd11790-9362-4fd8-86b2-412b68e18a4e",
   "metadata": {},
   "outputs": [
    {
     "name": "stdout",
     "output_type": "stream",
     "text": [
      "The sentiment score for the given tweets is 3.0\n"
     ]
    }
   ],
   "source": [
    "print(\"The sentiment score for the given tweets is\", sentiment_score)"
   ]
  },
  {
   "cell_type": "markdown",
   "id": "c75fd0c9-421f-4f3f-9f4c-18d2f220be48",
   "metadata": {},
   "source": [
    "#### Now we will Display whether the overall sentiment of the given dataset of tweets is happy or sad, using the sentiment score."
   ]
  },
  {
   "cell_type": "code",
   "execution_count": 20,
   "id": "df7acaaf-d896-48d7-b7d0-655bf0efef9d",
   "metadata": {},
   "outputs": [
    {
     "name": "stdout",
     "output_type": "stream",
     "text": [
      "The overall sentiment is happy\n"
     ]
    }
   ],
   "source": [
    "if sentiment_score:\n",
    "    print(\"The overall sentiment is happy\")\n",
    "else:\n",
    "    print(\"The overall sentiment is sad\")"
   ]
  },
  {
   "cell_type": "code",
   "execution_count": null,
   "id": "627ae61c-9d40-4ca7-ad15-21cfc08e3821",
   "metadata": {},
   "outputs": [],
   "source": []
  }
 ],
 "metadata": {
  "kernelspec": {
   "display_name": "Python 3 (ipykernel)",
   "language": "python",
   "name": "python3"
  },
  "language_info": {
   "codemirror_mode": {
    "name": "ipython",
    "version": 3
   },
   "file_extension": ".py",
   "mimetype": "text/x-python",
   "name": "python",
   "nbconvert_exporter": "python",
   "pygments_lexer": "ipython3",
   "version": "3.12.2"
  }
 },
 "nbformat": 4,
 "nbformat_minor": 5
}
